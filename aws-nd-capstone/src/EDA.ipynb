{
 "cells": [
  {
   "cell_type": "markdown",
   "id": "12f1d530-7ccf-4240-aa3a-a507a5d1cf5c",
   "metadata": {},
   "source": [
    "https://www.kaggle.com/datasets/dhruvildave/amazon-bin-image-dataset\n",
    "\n",
    "https://github.com/pablo-tech/Image-Inventory-Reconciliation-with-SVM-and-CNN"
   ]
  },
  {
   "cell_type": "code",
   "execution_count": null,
   "id": "36946b5f-3a82-4731-9708-2e019cc6d174",
   "metadata": {},
   "outputs": [],
   "source": [
    "https://registry.opendata.aws/amazon-bin-imagery/"
   ]
  },
  {
   "cell_type": "code",
   "execution_count": null,
   "id": "5d9750f9-26db-414e-b441-b5ebfcc542ce",
   "metadata": {},
   "outputs": [],
   "source": []
  }
 ],
 "metadata": {
  "kernelspec": {
   "display_name": "env-3.8.10",
   "language": "python",
   "name": "env-3.8.10"
  },
  "language_info": {
   "name": ""
  }
 },
 "nbformat": 4,
 "nbformat_minor": 5
}
